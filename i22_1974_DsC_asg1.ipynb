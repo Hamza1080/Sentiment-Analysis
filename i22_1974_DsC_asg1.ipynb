{
 "cells": [
  {
   "cell_type": "code",
   "execution_count": 274,
   "id": "e6c1811e-6fe6-489a-bfa6-f11bf3e7110a",
   "metadata": {
    "tags": []
   },
   "outputs": [],
   "source": [
    "import json\n",
    "\n",
    "#Making 3 list to store required data in them\n",
    "Rev_Text=[]\n",
    "Rev_Summary=[]\n",
    "Rev_Rating=[]\n",
    "\n",
    "#Saving data to RevText Summary and Ratings\n",
    "with open('test.json', 'r') as file:\n",
    "    for line in file:\n",
    "        data = json.loads(line)\n",
    "        Rev_Text.append(data['reviewText'])\n",
    "        Rev_Summary.append(data['summary'])\n",
    "        Rev_Rating.append(data['overall'])\n",
    "# print(Rev_Summary)\n",
    "file.close()"
   ]
  },
  {
   "cell_type": "code",
   "execution_count": 275,
   "id": "5f21e6f0-de55-4552-b2da-56cadda663ee",
   "metadata": {
    "tags": []
   },
   "outputs": [],
   "source": [
    "#Removing punctuations from Rev_Text & Rev_Summary\n",
    "punctuation_marks = ''''!()-[]{};:'\"\\,<>./?@#$%^&*_~'\"'''\n",
    "cleantext_list=[]\n",
    "cleantext=\"\"\n",
    "\n",
    "for word in Rev_Text:\n",
    "    cleantext=\"\"\n",
    "    for char in word:\n",
    "        if char not in punctuation_marks:\n",
    "            cleantext=cleantext+char\n",
    "    cleantext_list.append(cleantext)\n",
    "\n",
    "cleansummary_list=[]\n",
    "cleansummary=\"\"\n",
    "for word in Rev_Summary:\n",
    "    cleansummary=\"\"\n",
    "    for char in word:\n",
    "        if char not in punctuation_marks:\n",
    "            cleansummary=cleansummary+char\n",
    "    cleansummary_list.append(cleansummary)\n",
    "\n",
    "# print(cleansummary_list)"
   ]
  },
  {
   "cell_type": "code",
   "execution_count": 276,
   "id": "486abd76-30ed-402c-be43-95c26f80466f",
   "metadata": {},
   "outputs": [
    {
     "name": "stdout",
     "output_type": "stream",
     "text": [
      "['i', 'me', 'my', 'myself', 'we', 'our', 'ours', 'ourselves', 'you', 'your', 'yours', 'yourself', 'yourselves', 'he', 'him', 'his', 'himself', 'she', 'her', 'hers', 'herself', 'it', 'its', 'itself', 'they', 'them', 'their', 'theirs', 'themselves', 'what', 'which', 'who', 'whom', 'this', 'that', 'these', 'those', 'am', 'is', 'are', 'was', 'were', 'be', 'been', 'being', 'have', 'has', 'had', 'having', 'do', 'does', 'did', 'doing', 'a', 'an', 'the', 'and', 'but', 'if', 'or', 'because', 'as', 'until', 'while', 'of', 'at', 'by', 'for', 'with', 'about', 'against', 'between', 'into', 'through', 'during', 'before', 'after', 'above', 'below', 'to', 'from', 'up', 'down', 'in', 'out', 'on', 'off', 'over', 'under', 'again', 'further', 'then', 'once', 'here', 'there', 'when', 'where', 'why', 'how', 'all', 'any', 'both', 'each', 'few', 'more', 'most', 'other', 'some', 'such', 'no', 'nor', 'not', 'only', 'own', 'same', 'so', 'than', 'too', 'very', 's', 't', 'can', 'will', 'just', 'don', 'should', 'now']\n"
     ]
    }
   ],
   "source": [
    "#opening stopwrod files and storing it in stopword\n",
    "with open('stopword.txt','r',encoding=\"utf-8\") as stop:\n",
    "        stopw=stop.read()\n",
    "stopw=stopw.replace('\\n',' ')\n",
    "stopwords=stopw.split()\n",
    "print(stopwords)\n",
    "stop.close()"
   ]
  },
  {
   "cell_type": "code",
   "execution_count": 277,
   "id": "aefc2529-fa9a-4635-9d09-ac5f5b20c958",
   "metadata": {
    "tags": []
   },
   "outputs": [],
   "source": [
    "#Filtering out stopwords from Rev_Text & Rev_Summary\n",
    "filter_Rev_Text=[]\n",
    "for i in cleantext_list:\n",
    "    words=i.split()\n",
    "    words_WOstop=[word for word in words if word.lower() not in stopwords]\n",
    "    sentence=' '.join(words_WOstop)\n",
    "    filter_Rev_Text.append(sentence)\n",
    "    \n",
    "filter_Rev_Summary=[]\n",
    "for i in cleansummary_list:\n",
    "    words=i.split()\n",
    "    words_WOstop=[word for word in words if word.lower() not in stopwords]\n",
    "    sentence=' '.join(words_WOstop)\n",
    "    filter_Rev_Summary.append(sentence)\n",
    "# print(filter_Rev_Text)\n",
    "# print(filter_Rev_Summary)"
   ]
  },
  {
   "cell_type": "code",
   "execution_count": 278,
   "id": "a6a759c3-2dac-4b8b-8974-bacf22ae08bd",
   "metadata": {
    "tags": []
   },
   "outputs": [
    {
     "name": "stdout",
     "output_type": "stream",
     "text": [
      "Positive Words\n",
      "great  :  18024  :  0.854298985685847\n",
      "awesome  :  1346  :  0.9003344481605351\n",
      "Great  :  7999  :  0.9380790430397561\n",
      "perfect  :  3874  :  0.8913943856419696\n",
      "protects  :  1033  :  0.8364372469635628\n",
      "Easy  :  914  :  0.9067460317460317\n",
      "fits  :  4100  :  0.8476328302666942\n",
      "perfectly  :  3431  :  0.9045610334827313\n",
      "handy  :  987  :  0.8989071038251366\n",
      "best  :  4270  :  0.8487378254820115\n",
      "Excellent  :  1332  :  0.9680232558139535\n",
      "value  :  1049  :  0.861247947454844\n",
      "love  :  5869  :  0.9023677736777368\n",
      "excellent  :  1833  :  0.8699572852396773\n",
      "easy  :  6112  :  0.838984214138641\n",
      "Works  :  3735  :  0.9013030888030888\n",
      "Nice  :  1743  :  0.8452958292919496\n",
      "pleased  :  1085  :  0.9004149377593361\n",
      "complaints  :  925  :  0.8470695970695971\n",
      "happy  :  2538  :  0.8415119363395226\n",
      "Love  :  1898  :  0.9576185671039354\n",
      "highly  :  1349  :  0.9252400548696845\n",
      "amazing  :  952  :  0.8913857677902621\n",
      "loves  :  944  :  0.9506545820745217\n",
      "Perfect  :  1345  :  0.9831871345029239\n",
      "Best  :  1154  :  0.9389747762408462\n",
      "\n",
      "Negative Words\n",
      "waste  :  612  :  0.8149134487350199\n",
      "stopped  :  528  :  0.6726114649681528\n",
      "disappointed  :  612  :  0.6035502958579881\n",
      "Didnt  :  258  :  0.7392550143266475\n",
      "defective  :  264  :  0.6486486486486487\n",
      "return  :  670  :  0.681586978636826\n",
      "ok  :  1006  :  0.6711140760507005\n",
      "useless  :  351  :  0.6573033707865169\n",
      "broke  :  1000  :  0.6064281382656155\n",
      "okay  :  609  :  0.6714443219404631\n",
      "poor  :  680  :  0.6551059730250481\n",
      "refund  :  243  :  0.7408536585365854\n",
      "returned  :  403  :  0.665016501650165\n",
      "junk  :  291  :  0.7046004842615012\n",
      "terrible  :  311  :  0.6645299145299145\n",
      "returning  :  243  :  0.6903409090909091\n",
      "worst  :  238  :  0.672316384180791\n",
      "Poor  :  218  :  0.9478260869565217\n",
      "horrible  :  264  :  0.6700507614213198\n",
      "worse  :  289  :  0.604602510460251\n",
      "Ok  :  214  :  0.6096866096866097\n"
     ]
    }
   ],
   "source": [
    "#counting frequencies\n",
    "Counting_Positive_Word = {}\n",
    "Counting_Negative_Word = {}\n",
    "\n",
    "#Counting frquencies of Rev Text and adding words to Positive & Negative Basket\n",
    "for index, sentence in enumerate(filter_Rev_Text):\n",
    "    rating = Rev_Rating[index]\n",
    "    wordlist = sentence.split()\n",
    "    \n",
    "    if rating > 3:\n",
    "        for word in wordlist:\n",
    "            if word in Counting_Positive_Word:\n",
    "                Counting_Positive_Word[word] += 1\n",
    "            else:\n",
    "                Counting_Positive_Word[word] = 1\n",
    "    else:\n",
    "        for word in wordlist:\n",
    "            if word in Counting_Negative_Word:\n",
    "                Counting_Negative_Word[word] += 1\n",
    "            else:\n",
    "                Counting_Negative_Word[word] = 1\n",
    "                \n",
    "#Counting frquencies of Rev Summary and adding words to Positive & Negative Basket\n",
    "for index, sentence in enumerate(filter_Rev_Summary):\n",
    "    rating = Rev_Rating[index]\n",
    "    wordlist = sentence.split()\n",
    "    \n",
    "    if rating > 3:\n",
    "        for word in wordlist:\n",
    "            if word in Counting_Positive_Word:\n",
    "                Counting_Positive_Word[word] += 1\n",
    "            else:\n",
    "                Counting_Positive_Word[word] = 1\n",
    "    else:\n",
    "        for word in wordlist:\n",
    "            if word in Counting_Negative_Word:\n",
    "                Counting_Negative_Word[word] += 1\n",
    "            else:\n",
    "                Counting_Negative_Word[word] = 1\n",
    "                \n",
    "print(\"Positive Words\")\n",
    "Top_Positive_Word=[] #to store top positive words\n",
    "Top_Negative_Word=[] #to store top negative words\n",
    "\n",
    "Weightage_Positive=[] #to store weightage of top positive \n",
    "Weightage_Negative=[] #to store weightage of top negative\n",
    "\n",
    "for word, count in Counting_Positive_Word.items():\n",
    "    #taking count 900 after considering 50k dataset and outputs of cumulative freq to get top +\n",
    "    if count > 900:\n",
    "        if word in Counting_Negative_Word:\n",
    "            if((Counting_Positive_Word[word]/(Counting_Negative_Word[word]+Counting_Positive_Word[word]))>0.835):\n",
    "                print(word,\" : \", count,\" : \",(Counting_Positive_Word[word]/(Counting_Negative_Word[word]+Counting_Positive_Word[word]) ))\n",
    "                Top_Positive_Word.append(word)\n",
    "                if(count>3000 and (Counting_Positive_Word[word]/(Counting_Negative_Word[word]+Counting_Positive_Word[word]))>0.7): \n",
    "                    #relative frequency and cumulative frequncy to get assign weights\n",
    "                    Weightage_Positive.append(2)\n",
    "                else:\n",
    "                    Weightage_Positive.append(1)\n",
    "\n",
    "# Printing negative words with counts greater than 50\n",
    "print(f\"\\nNegative Words\")\n",
    "for word, count in Counting_Negative_Word.items():\n",
    "    if count > 200:\n",
    "        #Negative reviews were less so had to use 200 \n",
    "        if word in Counting_Positive_Word:\n",
    "            if((Counting_Negative_Word[word]/(Counting_Negative_Word[word]+Counting_Positive_Word[word]))>0.6):\n",
    "                print(word,\" : \", count,\" : \",Counting_Negative_Word[word]/(Counting_Negative_Word[word]+Counting_Positive_Word[word]))\n",
    "                Top_Negative_Word.append(word)\n",
    "                if(count>200 and (Counting_Negative_Word[word]/(Counting_Negative_Word[word]+Counting_Positive_Word[word]))>0.68):\n",
    "                    #relative frequency and cumulative frequncy to get assign weights\n",
    "                    Weightage_Negative.append(2)\n",
    "                else:\n",
    "                    Weightage_Negative.append(1)\n"
   ]
  },
  {
   "cell_type": "code",
   "execution_count": 279,
   "id": "21a08118-d42d-47be-b313-f4a1bbbd70bf",
   "metadata": {
    "tags": []
   },
   "outputs": [
    {
     "name": "stdout",
     "output_type": "stream",
     "text": [
      "waste  :  2\n",
      "stopped  :  1\n",
      "disappointed  :  1\n",
      "Didnt  :  2\n",
      "defective  :  1\n",
      "return  :  2\n",
      "ok  :  1\n",
      "useless  :  1\n",
      "broke  :  1\n",
      "okay  :  1\n",
      "poor  :  1\n",
      "refund  :  2\n",
      "returned  :  1\n",
      "junk  :  2\n",
      "terrible  :  1\n",
      "returning  :  2\n",
      "worst  :  1\n",
      "Poor  :  2\n",
      "horrible  :  1\n",
      "worse  :  1\n",
      "Ok  :  1\n"
     ]
    }
   ],
   "source": [
    "for index,word in enumerate(Top_Negative_Word):\n",
    "    print(word,\" : \", Weightage_Negative[index])"
   ]
  },
  {
   "cell_type": "code",
   "execution_count": 280,
   "id": "f905330b-03d6-4c7b-9e91-6a9f6a98f264",
   "metadata": {
    "tags": []
   },
   "outputs": [
    {
     "name": "stdout",
     "output_type": "stream",
     "text": [
      "great  :  2\n",
      "awesome  :  1\n",
      "Great  :  2\n",
      "perfect  :  2\n",
      "protects  :  1\n",
      "Easy  :  1\n",
      "fits  :  2\n",
      "perfectly  :  2\n",
      "handy  :  1\n",
      "best  :  2\n",
      "Excellent  :  1\n",
      "value  :  1\n",
      "love  :  2\n",
      "excellent  :  1\n",
      "easy  :  2\n",
      "Works  :  2\n",
      "Nice  :  1\n",
      "pleased  :  1\n",
      "complaints  :  1\n",
      "happy  :  1\n",
      "Love  :  1\n",
      "highly  :  1\n",
      "amazing  :  1\n",
      "loves  :  1\n",
      "Perfect  :  1\n",
      "Best  :  1\n"
     ]
    }
   ],
   "source": [
    "for index,word in enumerate(Top_Positive_Word):\n",
    "    print(word,\" : \", Weightage_Positive[index])"
   ]
  },
  {
   "cell_type": "code",
   "execution_count": 281,
   "id": "2333da11-9202-4b06-80c0-0dd4536ac403",
   "metadata": {
    "tags": []
   },
   "outputs": [
    {
     "name": "stdout",
     "output_type": "stream",
     "text": [
      "Review No :  1 \n",
      " I recently purchased this product and it's simply great! It fits perfectly and works perfectly. The value for money is excellent. I am highly pleased with it.Disappointed with the performance of this cellphone. The apps frequently crash, and the battery drains quickly even with minimal usage. Not worth the price.\n",
      " Sentiment :  Positive \n",
      "\n",
      "Review No :  2 \n",
      " This product is awesome! Great protection for my device and it fits perfectly. Easy to use and excellent value for the price. I love it!\n",
      " Sentiment :  Positive \n",
      "\n",
      "Review No :  3 \n",
      " Avoid this product at all costs! It's defective and broke within days of purchase. I tried returning it but the process was terrible. Terrible experience overall.\"\n",
      " Sentiment :  Negative \n",
      "\n",
      "Review No :  4 \n",
      " This product is useless! It broke within a week of purchase and I regret buying it. Returning it was a nightmare and the customer service was horrible.\n",
      " Sentiment :  Negative \n",
      "\n",
      "Review No :  5 \n",
      " I was really excited about this product but it turned out to be a complete disappointment. Poor quality and it didn't even fit properly. I returned it and won't be purchasing again.\n",
      " Sentiment :  Negative \n",
      "\n",
      "Review No :  6 \n",
      " I'm thrilled with my purchase! This product is perfect - it fits perfectly, works perfectly, and offers great protection. Best purchase I've made in a while!\"\n",
      " Sentiment :  Positive \n",
      "\n",
      "Review No :  7 \n",
      " The user interface of this cellphone is intuitive and easy to navigate. Setting up the phone and customizing it to my preferences was a breeze. Great job, manufacturers!\n",
      " Sentiment :  Positive \n",
      "\n",
      "Review No :  8 \n",
      " Had high hopes for this cellphone, but unfortunately, the signal strength is abysmal. Constantly dropping calls and struggling with poor reception, even in areas with good coverage. Major letdown.\n",
      " Sentiment :  Negative \n",
      "\n",
      "Review No :  9 \n",
      " This cellphone's battery life is phenomenal! I can go a whole day without charging, even with heavy usage. Makes my life so much easier, especially when I'm on the go.\n",
      " Sentiment :  Neutral/No-Result \n",
      "\n",
      "Review No :  10 \n",
      " The build quality of this cellphone is top-notch. It feels sturdy and well-made in hand. Plus, the water-resistant feature is a lifesaver for those accidental spills or rainy days.\n",
      " Sentiment :  Neutral/No-Result \n",
      "\n",
      "Review No :  11 \n",
      " The size of this cellphone is perfect for one-handed use. Fits comfortably in my pocket and doesn't feel bulky at all. Great balance between screen size and portability.\n",
      " Sentiment :  Positive \n",
      "\n",
      "Review No :  12 \n",
      " i love how bad this product is Sentiment :  Positive \n",
      "\n"
     ]
    },
    {
     "data": {
      "text/plain": [
       "<function TextIOWrapper.close()>"
      ]
     },
     "execution_count": 281,
     "metadata": {},
     "output_type": "execute_result"
    }
   ],
   "source": [
    "counter=1\n",
    "\n",
    "file_path = \"Result.txt\"\n",
    "content_to_write = \"This is the content to write to the file.\\n\"\n",
    "\n",
    "with open(file_path, \"w\") as f: #using f file to write in it\n",
    "    with open(\"Reviews.txt\", \"r\") as file: #using file to read reviews from\n",
    "        for review in file: # reading file line by line\n",
    "            sentiment_score=0\n",
    "            review_words=review.split() #Seprating word for each review\n",
    "            for word in review_words: #comparing word and setting sentiment score\n",
    "                if word in Top_Positive_Word:\n",
    "                    index=Top_Positive_Word.index(word)\n",
    "                    sentiment_score=sentiment_score+Weightage_Positive[index]\n",
    "                if word in Top_Negative_Word:\n",
    "                    index=Top_Negative_Word.index(word)\n",
    "                    sentiment_score=sentiment_score-Weightage_Negative[index]\n",
    "            if(sentiment_score>0): #writig into reult file\n",
    "                f.write((\"Review No : \"+ str(counter) + \"\\n\" + review + \"Sentiment : \" + \"Positive\"+ \"\\n\"))\n",
    "                print(\"Review No : \",counter,\"\\n\" ,review,\"Sentiment : \",\"Positive\",\"\\n\")\n",
    "            elif(sentiment_score<0):\n",
    "                f.write(\"Review No : \" + str(counter) + \"\\n\" + review  + \"Sentiment : \" + \"Negative\" + \"\\n\")\n",
    "                print(\"Review No : \",counter,\"\\n\" ,review,\"Sentiment : \",\"Negative\",\"\\n\")\n",
    "            else:\n",
    "                f.write(\"Review No : \"+str(counter) + \"\\n\" + review+ \"Sentiment : \" +\"Neutral/No-Result\"+\"\\n\")\n",
    "                print(\"Review No : \",str(counter),\"\\n\" ,review,\"Sentiment : \",\"Neutral/No-Result\",\"\\n\")\n",
    "            counter=counter+1\n",
    "            R_list.append(review)\n",
    "file.close\n",
    "f.close"
   ]
  },
  {
   "cell_type": "code",
   "execution_count": null,
   "id": "34a0f679-8587-46dd-9bd9-90e45b315ad3",
   "metadata": {},
   "outputs": [],
   "source": []
  }
 ],
 "metadata": {
  "kernelspec": {
   "display_name": "Python 3 (ipykernel)",
   "language": "python",
   "name": "python3"
  },
  "language_info": {
   "codemirror_mode": {
    "name": "ipython",
    "version": 3
   },
   "file_extension": ".py",
   "mimetype": "text/x-python",
   "name": "python",
   "nbconvert_exporter": "python",
   "pygments_lexer": "ipython3",
   "version": "3.11.4"
  }
 },
 "nbformat": 4,
 "nbformat_minor": 5
}
